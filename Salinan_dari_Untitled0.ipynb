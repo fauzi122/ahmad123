{
  "nbformat": 4,
  "nbformat_minor": 0,
  "metadata": {
    "colab": {
      "name": "Salinan dari Untitled0.ipynb",
      "provenance": [],
      "collapsed_sections": [],
      "authorship_tag": "ABX9TyMLtyjr1P+dirHDVVOnzDbV",
      "include_colab_link": true
    },
    "kernelspec": {
      "name": "python3",
      "display_name": "Python 3"
    },
    "language_info": {
      "name": "python"
    }
  },
  "cells": [
    {
      "cell_type": "markdown",
      "metadata": {
        "id": "view-in-github",
        "colab_type": "text"
      },
      "source": [
        "<a href=\"https://colab.research.google.com/github/fauzi122/ahmad123/blob/master/Salinan_dari_Untitled0.ipynb\" target=\"_parent\"><img src=\"https://colab.research.google.com/assets/colab-badge.svg\" alt=\"Open In Colab\"/></a>"
      ]
    },
    {
      "cell_type": "code",
      "metadata": {
        "id": "rtbieH61na4z",
        "colab": {
          "base_uri": "https://localhost:8080/"
        },
        "outputId": "a736b635-1e48-4789-e97c-06bf2742a592"
      },
      "source": [
        "import numpy as np\n",
        "\n",
        "# Matriks\n",
        "\n",
        "matriksA = np.array([[1,2],\n",
        "                     [2,1]])\n",
        "matriksB = np.array([[2,2],\n",
        "                     [1,1]])   \n",
        "\n",
        "perkalian_biasa = matriksA*matriksB\n",
        "\n",
        "perkalian_matriks1 = np.dot(matriksA,matriksB)\n",
        "perkalian_matriks2 = matriksA.dot(matriksB)\n",
        "\n",
        "print(\"Matriks A :\")\n",
        "print(matriksA)\n",
        "\n",
        "print(\"Matriks B :\")\n",
        "print(matriksB)\n",
        "\n",
        "print(\"Perkalian Biasa Matriks : \")\n",
        "print(perkalian_biasa)"
      ],
      "execution_count": 1,
      "outputs": [
        {
          "output_type": "stream",
          "name": "stdout",
          "text": [
            "Matriks A :\n",
            "[[1 2]\n",
            " [2 1]]\n",
            "Matriks B :\n",
            "[[2 2]\n",
            " [1 1]]\n",
            "Perkalian Biasa Matriks : \n",
            "[[2 4]\n",
            " [2 1]]\n"
          ]
        }
      ]
    },
    {
      "cell_type": "code",
      "metadata": {
        "colab": {
          "base_uri": "https://localhost:8080/"
        },
        "id": "KQrbMzVXouXU",
        "outputId": "97b506bb-4b35-42fb-a79c-d4cf73f0fd1c"
      },
      "source": [
        "import pandas as pd\n",
        "\n",
        "list_nim = []\n",
        "list_nama = []\n",
        "list_uts = []\n",
        "list_uas = []\n",
        "list_total = []\n",
        "\n",
        "ulang = 2\n",
        "\n",
        "for i in range(ulang):\n",
        "    print(\"Data Ke : \" + str(i+1))\n",
        "    list_nim.append(input(\"Nim : \"))\n",
        "    list_nama.append(input(\"Nama : \"))\n",
        "    list_uts.append(int(input(\"Nilai UTS : \")))\n",
        "    list_uas.append(int(input(\"Nilai UAS : \")))\n",
        "\n",
        "for i in range(ulang):\n",
        "    list_total.append((list_uts[i] + list_uas[i]) / 2)\n",
        "\n",
        "mhs = {\n",
        "    \"NIM\": list_nim,\n",
        "    \"Nama Lengkap\": list_nama,\n",
        "    \"Nilai UTS\": list_uts,\n",
        "    \"Nilai UAS\": list_uas,\n",
        "    \"Rata - rata Nilai\": list_total\n",
        "}\n",
        "\n",
        "data_mhs = pd.DataFrame(mhs)\n",
        "\n",
        "print(\"====================================Daftar Nilai Mahasiswa====================================\")\n",
        "print(data_mhs)\n",
        "print(\"==============================================================================================\")\n"
      ],
      "execution_count": 2,
      "outputs": [
        {
          "output_type": "stream",
          "name": "stdout",
          "text": [
            "Data Ke : 1\n",
            "Nim : 111\n",
            "Nama : fauzi\n",
            "Nilai UTS : 10\n",
            "Nilai UAS : 10\n",
            "Data Ke : 2\n",
            "Nim : 10\n",
            "Nama : fauzi\n",
            "Nilai UTS : 100\n",
            "Nilai UAS : 100\n",
            "====================================Daftar Nilai Mahasiswa====================================\n",
            "   NIM Nama Lengkap  Nilai UTS  Nilai UAS  Rata - rata Nilai\n",
            "0  111        fauzi         10         10               10.0\n",
            "1   10        fauzi        100        100              100.0\n",
            "==============================================================================================\n"
          ]
        }
      ]
    },
    {
      "cell_type": "code",
      "metadata": {
        "id": "GY9sJcMnnffA"
      },
      "source": [
        ""
      ],
      "execution_count": null,
      "outputs": []
    }
  ]
}